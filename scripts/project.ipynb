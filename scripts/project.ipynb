{
 "cells": [
  {
   "cell_type": "code",
   "execution_count": 1,
   "id": "92fb548a-ba28-458b-a050-5b6463451035",
   "metadata": {},
   "outputs": [
    {
     "name": "stdout",
     "output_type": "stream",
     "text": [
      "project.ipynb  \u001b[0m\u001b[01;32msequence.sh\u001b[0m*  \u001b[01;32mtranslation.sh\u001b[0m*\n"
     ]
    }
   ],
   "source": [
    "ls"
   ]
  },
  {
   "cell_type": "code",
   "execution_count": 2,
   "id": "589274d2-b568-451e-b5e1-caa4ccc222df",
   "metadata": {
    "scrolled": true
   },
   "outputs": [
    {
     "name": "stdout",
     "output_type": "stream",
     "text": [
      "../data/sequence_chimpanzee.fasta:>NC_072401.2:111369488-111470783 Pan troglodytes isolate AG18354 chromosome 3, NHGRI_mPanTro3-v2.0_pri, whole genome shotgun sequence\n",
      "../data/sequence_fruitfly.fasta:>NT_033778.4:21522420-21559977 Drosophila melanogaster chromosome 2R\n",
      "../data/sequence_human.fasta:>NC_000004.12:109912883-110013766 Homo sapiens chromosome 4, GRCh38.p14 Primary Assembly\n",
      "../data/sequence_mouse.fasta:>NC_000069.7:c129548971-129471223 Mus musculus strain C57BL/6J chromosome 3, GRCm39\n",
      "../data/sequence_rat.fasta:>NC_086020.1:c220976331-220893660 Rattus norvegicus strain BN/NHsdMcwi chromosome 2, GRCr8, whole genome shotgun sequence\n",
      "../data/uniprotkb_P01133.fasta:>sp|P01133|EGF_HUMAN Pro-epidermal growth factor OS=Homo sapiens OX=9606 GN=EGF PE=1 SV=2\n"
     ]
    }
   ],
   "source": [
    "!grep \"^>\" ../data/*.fasta"
   ]
  },
  {
   "cell_type": "code",
   "execution_count": 5,
   "id": "3f7485d0-fea7-4e73-8a40-abf5396ca947",
   "metadata": {},
   "outputs": [],
   "source": [
    "from Bio import SeqIO\n",
    "from Bio.Seq import Seq\n",
    "import glob"
   ]
  },
  {
   "cell_type": "code",
   "execution_count": 7,
   "id": "b753c8f0-6204-4f1f-b037-a64283c1baed",
   "metadata": {},
   "outputs": [
    {
     "name": "stdout",
     "output_type": "stream",
     "text": [
      "NC_072401.2:111369488-111470783\n",
      "39.23254620123203\n",
      "NC_000004.12:109912883-110013766\n",
      "39.119186392292136\n",
      "sp|P01133|EGF_HUMAN\n",
      "13.753106876553439\n",
      "NC_086020.1:c220976331-220893660\n",
      "44.45761563770079\n",
      "NT_033778.4:21522420-21559977\n",
      "45.78252303104532\n",
      "NC_000069.7:c129548971-129471223\n",
      "43.947832126458216\n"
     ]
    }
   ],
   "source": [
    "for fasta_file in glob.glob(\"../data/*.fasta\"):\n",
    "    for seq_record in SeqIO.parse(fasta_file, \"fasta\"):\n",
    "        sequence = str(seq_record.seq)\n",
    "        sequence_id = seq_record.id\n",
    "        gc_content = (sequence.count(\"C\") + sequence.count(\"G\")) / len(sequence) * 100\n",
    "        print(sequence_id)\n",
    "        print(gc_content)"
   ]
  },
  {
   "cell_type": "code",
   "execution_count": 9,
   "id": "980da3b8-842d-455e-92d7-e308e6f71e52",
   "metadata": {},
   "outputs": [
    {
     "name": "stdout",
     "output_type": "stream",
     "text": [
      ">XP_063579644.1 pro-epidermal growth factor isoform X8 [Pongo abelii]\n",
      ">NP_001171601.1 pro-epidermal growth factor isoform 2 precursor [Homo sapiens]\n",
      ">XP_028704505.1 pro-epidermal growth factor isoform X9 [Macaca mulatta]\n",
      ">XP_050646952.1 pro-epidermal growth factor isoform X11 [Macaca thibetana thibetana]\n",
      ">KAL4679405.1 hypothetical protein H8959_009055 [Pygathrix nigripes]\n"
     ]
    }
   ],
   "source": [
    "!grep \"^>\" ../data/seqdump.txt"
   ]
  },
  {
   "cell_type": "code",
   "execution_count": 10,
   "id": "5b6a4228-0714-4d57-80d5-f1f46a8ae4cc",
   "metadata": {},
   "outputs": [
    {
     "name": "stdout",
     "output_type": "stream",
     "text": [
      "XP_063579644.1: 4.92% cysteine\n",
      "NP_001171601.1: 5.06% cysteine\n",
      "XP_028704505.1: 5.42% cysteine\n",
      "XP_050646952.1: 5.82% cysteine\n",
      "KAL4679405.1: 5.54% cysteine\n"
     ]
    }
   ],
   "source": [
    "for record in SeqIO.parse(\"../data/seqdump.txt\", \"fasta\"):\n",
    "    seq = str(record.seq)\n",
    "    length = len(seq)\n",
    "    if length > 0:\n",
    "        c_count = seq.count(\"C\")\n",
    "        c_percent = (c_count / length) * 100\n",
    "        print(f\"{record.id}: {c_percent:.2f}% cysteine\")"
   ]
  },
  {
   "cell_type": "code",
   "execution_count": 12,
   "id": "88b93b4f-23bd-4fd7-bb31-59b2d5e05fdf",
   "metadata": {},
   "outputs": [
    {
     "name": "stdout",
     "output_type": "stream",
     "text": [
      "Longest sequence ID: NP_001171601.1\n",
      "Length: 1166 amino acids\n"
     ]
    }
   ],
   "source": [
    "longest_record = \"\"\n",
    "max_len = 0\n",
    "\n",
    "for record in SeqIO.parse(\"../data/seqdump.txt\", \"fasta\"):\n",
    "    length = len(record.seq)\n",
    "    if length > max_len:\n",
    "        max_len = length\n",
    "        longest_record = record\n",
    "\n",
    "print(f\"Longest sequence ID: {longest_record.id}\")\n",
    "print(f\"Length: {max_len} amino acids\")"
   ]
  },
  {
   "cell_type": "code",
   "execution_count": null,
   "id": "1066b1c2-779a-49f4-acaa-260b3338f5c8",
   "metadata": {},
   "outputs": [],
   "source": []
  }
 ],
 "metadata": {
  "kernelspec": {
   "display_name": "Python 3 (ipykernel)",
   "language": "python",
   "name": "python3"
  },
  "language_info": {
   "codemirror_mode": {
    "name": "ipython",
    "version": 3
   },
   "file_extension": ".py",
   "mimetype": "text/x-python",
   "name": "python",
   "nbconvert_exporter": "python",
   "pygments_lexer": "ipython3",
   "version": "3.12.7"
  }
 },
 "nbformat": 4,
 "nbformat_minor": 5
}
