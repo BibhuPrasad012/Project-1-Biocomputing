{
 "cells": [
  {
   "cell_type": "code",
   "execution_count": 1,
   "id": "92fb548a-ba28-458b-a050-5b6463451035",
   "metadata": {},
   "outputs": [
    {
     "name": "stdout",
     "output_type": "stream",
     "text": [
      "1JL9.pdb                   human_cds.txt       seqdump.txt\n",
      "codons.txt                 output.fasta        \u001b[0m\u001b[01;32msequence.sh\u001b[0m*\n",
      "codon.txt                  output_human.txt    \u001b[01;32mtranslation.sh\u001b[0m*\n",
      "\u001b[01;34mdata\u001b[0m/                      output.txt          uniprotkb_P01133.fasta\n",
      "extracted_sequences.fasta  output_uniport.txt\n",
      "headers_blast.txt          project.ipynb\n"
     ]
    }
   ],
   "source": [
    "ls"
   ]
  },
  {
   "cell_type": "code",
   "execution_count": 2,
   "id": "589274d2-b568-451e-b5e1-caa4ccc222df",
   "metadata": {
    "scrolled": true
   },
   "outputs": [
    {
     "name": "stdout",
     "output_type": "stream",
     "text": [
      "extracted_sequences.fasta:>NP_001954.2 pro-epidermal growth factor isoform 1 preproprotein [Homo sapiens]\n",
      "extracted_sequences.fasta:>NP_001171601.1 pro-epidermal growth factor isoform 2 precursor [Homo sapiens]\n",
      "extracted_sequences.fasta:>XP_039324357.1 pro-epidermal growth factor isoform X1 [Saimiri boliviensis]\n",
      "extracted_sequences.fasta:>XP_063579641.1 pro-epidermal growth factor isoform X5 [Pongo abelii]\n",
      "extracted_sequences.fasta:>XP_007463284.1 PREDICTED: pro-epidermal growth factor isoform X1 [Lipotes vexillifer]\n",
      "uniprotkb_P01133.fasta:>sp|P01133|EGF_HUMAN Pro-epidermal growth factor OS=Homo sapiens OX=9606 GN=EGF PE=1 SV=2\n"
     ]
    }
   ],
   "source": [
    "!grep \"^>\" *.fasta"
   ]
  },
  {
   "cell_type": "code",
   "execution_count": 3,
   "id": "3f7485d0-fea7-4e73-8a40-abf5396ca947",
   "metadata": {},
   "outputs": [],
   "source": [
    "from Bio import SeqIO\n",
    "from Bio.Seq import Seq\n",
    "import glob"
   ]
  },
  {
   "cell_type": "code",
   "execution_count": 4,
   "id": "b753c8f0-6204-4f1f-b037-a64283c1baed",
   "metadata": {},
   "outputs": [
    {
     "name": "stdout",
     "output_type": "stream",
     "text": [
      "NP_001954.2\n",
      "13.753106876553439\n",
      "NP_001171601.1\n",
      "13.20754716981132\n",
      "XP_039324357.1\n",
      "13.562091503267974\n",
      "XP_063579641.1\n",
      "13.799126637554584\n",
      "XP_007463284.1\n",
      "13.858921161825727\n",
      "sp|P01133|EGF_HUMAN\n",
      "13.753106876553439\n"
     ]
    },
    {
     "name": "stderr",
     "output_type": "stream",
     "text": [
      "/home/bibhu/anaconda3/lib/python3.12/site-packages/Bio/SeqIO/FastaIO.py:203: BiopythonDeprecationWarning: Previously, the FASTA parser silently ignored comments at the beginning of the FASTA file (before the first sequence).\n",
      "\n",
      "Nowadays, the FASTA file format is usually understood not to have any such comments, and most software packages do not allow them. Therefore, the use of comments at the beginning of a FASTA file is now deprecated in Biopython.\n",
      "\n",
      "In a future Biopython release, this deprecation warning will be replaced by a ValueError. To avoid this, there are three options:\n",
      "\n",
      "(1) Modify your FASTA file to remove such comments at the beginning of the file.\n",
      "\n",
      "(2) Use SeqIO.parse with the 'fasta-pearson' format instead of 'fasta'. This format is consistent with the FASTA format defined by William Pearson's FASTA aligner software. Thie format allows for comments before the first sequence; lines starting with the ';' character anywhere in the file are also regarded as comment lines and are ignored.\n",
      "\n",
      "(3) Use the 'fasta-blast' format. This format regards any lines starting with '!', '#', or ';' as comment lines. The 'fasta-blast' format may be safer than the 'fasta-pearson' format, as it explicitly indicates which lines are comments. \n",
      "  warnings.warn(\n"
     ]
    }
   ],
   "source": [
    "for fasta_file in glob.glob(\"*.fasta\"):\n",
    "    for seq_record in SeqIO.parse(fasta_file, \"fasta\"):\n",
    "        sequence = str(seq_record.seq)\n",
    "        sequence_id = seq_record.id\n",
    "        gc_content = (sequence.count(\"C\") + sequence.count(\"G\")) / len(sequence) * 100\n",
    "        print(sequence_id)\n",
    "        print(gc_content)"
   ]
  },
  {
   "cell_type": "code",
   "execution_count": 11,
   "id": "452afa0e-33cc-4349-b438-cfa3082fb535",
   "metadata": {},
   "outputs": [
    {
     "name": "stdout",
     "output_type": "stream",
     "text": [
      "NC_000004.12:109912883-110013766\n",
      "QKEKLLGEES\n"
     ]
    }
   ],
   "source": [
    "for seq_record in SeqIO.parse(\"data/sequence_human.fasta\", \"fasta\"):\n",
    "        sequence = str(seq_record.seq)[:30]\n",
    "        sequence_id = seq_record.id\n",
    "        translated_protein = Seq(sequence).translate()\n",
    "        print(sequence_id)\n",
    "        print(translated_protein)"
   ]
  },
  {
   "cell_type": "code",
   "execution_count": 6,
   "id": "07f52d18-22b8-47d8-bca3-d7836038c63a",
   "metadata": {},
   "outputs": [
    {
     "name": "stdout",
     "output_type": "stream",
     "text": [
      ">sp|P01133|EGF_HUMAN Pro-epidermal growth factor OS=Homo sapiens OX=9606 GN=EGF PE=1 SV=2\n",
      "MLLTLIILLPVVSKFSFVSLSAPQHWSCPEGTLAGNGNSTCVGPAPFLIFSHGNSIFRID\n",
      "TEGTNYEQLVVDAGVSVIMDFHYNEKRIYWVDLERQLLQRVFLNGSRQERVCNIEKNVSG\n",
      "MAINWINEEVIWSNQQEGIITVTDMKGNNSHILLSALKYPANVAVDPVERFIFWSSEVAG\n",
      "SLYRADLDGVGVKALLETSEKITAVSLDVLDKRLFWIQYNREGSNSLICSCDYDGGSVHI\n"
     ]
    }
   ],
   "source": [
    "!head -n 5 uniprotkb_P01133.fasta"
   ]
  },
  {
   "cell_type": "code",
   "execution_count": 7,
   "id": "980da3b8-842d-455e-92d7-e308e6f71e52",
   "metadata": {},
   "outputs": [
    {
     "name": "stdout",
     "output_type": "stream",
     "text": [
      ">XP_063579644.1 pro-epidermal growth factor isoform X8 [Pongo abelii]\n",
      ">NP_001171601.1 pro-epidermal growth factor isoform 2 precursor [Homo sapiens]\n",
      ">XP_028704505.1 pro-epidermal growth factor isoform X9 [Macaca mulatta]\n",
      ">XP_050646952.1 pro-epidermal growth factor isoform X11 [Macaca thibetana thibetana]\n",
      ">KAL4679405.1 hypothetical protein H8959_009055 [Pygathrix nigripes]\n"
     ]
    }
   ],
   "source": [
    "!grep \"^>\" seqdump.txt"
   ]
  },
  {
   "cell_type": "code",
   "execution_count": 9,
   "id": "5b6a4228-0714-4d57-80d5-f1f46a8ae4cc",
   "metadata": {},
   "outputs": [
    {
     "name": "stdout",
     "output_type": "stream",
     "text": [
      "XP_063579644.1: 4.92% cysteine\n",
      "NP_001171601.1: 5.06% cysteine\n",
      "XP_028704505.1: 5.42% cysteine\n",
      "XP_050646952.1: 5.82% cysteine\n",
      "KAL4679405.1: 5.54% cysteine\n"
     ]
    }
   ],
   "source": [
    "for record in SeqIO.parse(\"seqdump.txt\", \"fasta\"):\n",
    "    seq = str(record.seq)\n",
    "    length = len(seq)\n",
    "    if length > 0:\n",
    "        c_count = seq.count(\"C\")\n",
    "        c_percent = (c_count / length) * 100\n",
    "        print(f\"{record.id}: {c_percent:.2f}% cysteine\")"
   ]
  },
  {
   "cell_type": "code",
   "execution_count": 17,
   "id": "88b93b4f-23bd-4fd7-bb31-59b2d5e05fdf",
   "metadata": {},
   "outputs": [
    {
     "name": "stdout",
     "output_type": "stream",
     "text": [
      "Longest sequence ID: sp|P01133|EGF_HUMAN\n",
      "Length: 1207 amino acids\n"
     ]
    }
   ],
   "source": [
    "longest_record = \"\"\n",
    "max_len = 0\n",
    "\n",
    "for record in SeqIO.parse(fasta_file, \"fasta\"):\n",
    "    length = len(record.seq)\n",
    "    if length > max_len:\n",
    "        max_len = length\n",
    "        longest_record = record\n",
    "\n",
    "print(f\"Longest sequence ID: {longest_record.id}\")\n",
    "print(f\"Length: {max_len} amino acids\")"
   ]
  },
  {
   "cell_type": "code",
   "execution_count": null,
   "id": "1066b1c2-779a-49f4-acaa-260b3338f5c8",
   "metadata": {},
   "outputs": [],
   "source": []
  }
 ],
 "metadata": {
  "kernelspec": {
   "display_name": "Python 3 (ipykernel)",
   "language": "python",
   "name": "python3"
  },
  "language_info": {
   "codemirror_mode": {
    "name": "ipython",
    "version": 3
   },
   "file_extension": ".py",
   "mimetype": "text/x-python",
   "name": "python",
   "nbconvert_exporter": "python",
   "pygments_lexer": "ipython3",
   "version": "3.12.7"
  }
 },
 "nbformat": 4,
 "nbformat_minor": 5
}
